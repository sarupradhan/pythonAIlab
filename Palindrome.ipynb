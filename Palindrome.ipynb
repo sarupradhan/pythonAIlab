{
 "cells": [
  {
   "cell_type": "markdown",
   "id": "36052b15",
   "metadata": {},
   "source": [
    "### Write a program to check palindrome."
   ]
  },
  {
   "cell_type": "code",
   "execution_count": 3,
   "id": "3f6afa9b",
   "metadata": {},
   "outputs": [
    {
     "name": "stdout",
     "output_type": "stream",
     "text": [
      "Enter the value : racecar\n",
      "Yes racecar it is palindrome !\n"
     ]
    }
   ],
   "source": [
    "def palin(x):\n",
    "      reverse = x[::-1]\n",
    "      if(x == reverse):\n",
    "         print(f\"Yes {x} it is palindrome !\")\n",
    "      else:\n",
    "         print(f\"No {x} is not palindrome !\")\n",
    "\n",
    "x = input(\"Enter the value : \")\n",
    "palin(x)"
   ]
  }
 ],
 "metadata": {
  "kernelspec": {
   "display_name": "Python 3 (ipykernel)",
   "language": "python",
   "name": "python3"
  },
  "language_info": {
   "codemirror_mode": {
    "name": "ipython",
    "version": 3
   },
   "file_extension": ".py",
   "mimetype": "text/x-python",
   "name": "python",
   "nbconvert_exporter": "python",
   "pygments_lexer": "ipython3",
   "version": "3.11.5"
  }
 },
 "nbformat": 4,
 "nbformat_minor": 5
}
