{
 "cells": [
  {
   "cell_type": "markdown",
   "id": "1c0bd679",
   "metadata": {},
   "source": [
    "### Write a program to find prime number with in a range using function."
   ]
  },
  {
   "cell_type": "code",
   "execution_count": 11,
   "id": "485f1dbf",
   "metadata": {},
   "outputs": [
    {
     "name": "stdout",
     "output_type": "stream",
     "text": [
      "Enter starting range= 2\n",
      "Enter ending range= 7\n",
      "The prime number between 2 to 7 is\n",
      "2  3  5  7  "
     ]
    }
   ],
   "source": [
    "def prime(x,y):\n",
    "    print(f'The prime number between {x} to {y} is')\n",
    "    for i in range (start,end+1):\n",
    "       \n",
    "        for j in range(2,i):\n",
    "            if(i%j == 0):\n",
    "                break\n",
    "        \n",
    "        else:\n",
    "            print(i, end=\"  \")     \n",
    "            \n",
    "            \n",
    "start = int(input(\"Enter starting range= \"))\n",
    "end = int(input(\"Enter ending range= \"))\n",
    "prime(start,end)\n"
   ]
  },
  {
   "cell_type": "code",
   "execution_count": null,
   "id": "eb9c554b",
   "metadata": {},
   "outputs": [],
   "source": []
  },
  {
   "cell_type": "code",
   "execution_count": null,
   "id": "94809892",
   "metadata": {},
   "outputs": [],
   "source": []
  }
 ],
 "metadata": {
  "kernelspec": {
   "display_name": "Python 3 (ipykernel)",
   "language": "python",
   "name": "python3"
  },
  "language_info": {
   "codemirror_mode": {
    "name": "ipython",
    "version": 3
   },
   "file_extension": ".py",
   "mimetype": "text/x-python",
   "name": "python",
   "nbconvert_exporter": "python",
   "pygments_lexer": "ipython3",
   "version": "3.11.5"
  }
 },
 "nbformat": 4,
 "nbformat_minor": 5
}
