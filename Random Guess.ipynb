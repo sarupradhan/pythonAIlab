{
 "cells": [
  {
   "cell_type": "markdown",
   "id": "d1ad90ea",
   "metadata": {},
   "source": [
    "### Create a number guessing game. Where you have to generate a random number in between 1 to 100 and user have to prompt a number for guess. if its high or low number let the user know and guide them through the process to guess correct number.\n"
   ]
  },
  {
   "cell_type": "code",
   "execution_count": 2,
   "id": "11868379",
   "metadata": {},
   "outputs": [
    {
     "name": "stdout",
     "output_type": "stream",
     "text": [
      "Guess number between 1 and 100 : 25\n",
      "Your guess is LOW, guess higher! \n",
      "Guess again: 30\n",
      "Your guess is LOW, guess higher! \n",
      "Guess again: 75\n",
      "Your guess is HIGH, guess lower!\n",
      "Guess again: 60\n",
      "Your guess is HIGH, guess lower!\n",
      "Guess again: 50\n",
      "Your guess is LOW, guess higher! \n",
      "Guess again: 55\n",
      "You Guess it Right!!\n"
     ]
    }
   ],
   "source": [
    "import random \n",
    "num = random.randint(1,100)\n",
    "guess = int(input(\"Guess number between 1 and 100 : \"))\n",
    "\n",
    "while guess != num:\n",
    "    if guess<num:\n",
    "        print(\"Your guess is LOW, guess higher! \")\n",
    "    elif guess>num:\n",
    "        print(\"Your guess is HIGH, guess lower!\")\n",
    "        \n",
    "    guess = int(input(\"Guess again: \"))\n",
    "    \n",
    "print(\"You Guess it Right!!\")"
   ]
  }
 ],
 "metadata": {
  "kernelspec": {
   "display_name": "Python 3 (ipykernel)",
   "language": "python",
   "name": "python3"
  },
  "language_info": {
   "codemirror_mode": {
    "name": "ipython",
    "version": 3
   },
   "file_extension": ".py",
   "mimetype": "text/x-python",
   "name": "python",
   "nbconvert_exporter": "python",
   "pygments_lexer": "ipython3",
   "version": "3.11.5"
  }
 },
 "nbformat": 4,
 "nbformat_minor": 5
}
