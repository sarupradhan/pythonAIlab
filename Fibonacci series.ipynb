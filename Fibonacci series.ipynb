{
 "cells": [
  {
   "cell_type": "markdown",
   "id": "283c6de9",
   "metadata": {},
   "source": [
    "## Write a program to generate the Fibonacci sequence of a given number."
   ]
  },
  {
   "cell_type": "code",
   "execution_count": 5,
   "id": "ee312040",
   "metadata": {},
   "outputs": [
    {
     "name": "stdout",
     "output_type": "stream",
     "text": [
      "Enter number: 12\n",
      "0     1     1     2     3     5     8     13     21     34     55     89     "
     ]
    }
   ],
   "source": [
    "def fiboseries(num):\n",
    "    n1, n2 = 0,1\n",
    "    sum = 0\n",
    "    if num <= 0:\n",
    "        print(\"Please enter number greater than 0\")\n",
    "    else:\n",
    "        for i in range(0,num):\n",
    "            print(sum, end=\"     \")\n",
    "            n1 = n2\n",
    "            n2 = sum\n",
    "            sum = n1 + n2\n",
    "            \n",
    "num = int(input(\"Enter number: \"))\n",
    "fiboseries(num)"
   ]
  }
 ],
 "metadata": {
  "kernelspec": {
   "display_name": "Python 3 (ipykernel)",
   "language": "python",
   "name": "python3"
  },
  "language_info": {
   "codemirror_mode": {
    "name": "ipython",
    "version": 3
   },
   "file_extension": ".py",
   "mimetype": "text/x-python",
   "name": "python",
   "nbconvert_exporter": "python",
   "pygments_lexer": "ipython3",
   "version": "3.11.5"
  }
 },
 "nbformat": 4,
 "nbformat_minor": 5
}
